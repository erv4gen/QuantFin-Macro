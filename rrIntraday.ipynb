{
 "cells": [
  {
   "cell_type": "code",
   "execution_count": 2,
   "metadata": {},
   "outputs": [],
   "source": [
    "import os\n",
    "import sys , time , traceback \n",
    "import datetime as dt\n",
    "\n",
    "from tqdm import tqdm\n",
    "import warnings , ipdb\n",
    "import pandas as pd\n",
    "import pandas_datareader.data as web\n",
    "import numpy as np\n",
    "\n",
    "import statsmodels.formula.api as smf\n",
    "import statsmodels.tsa.api as smt\n",
    "import statsmodels.api as sm\n",
    "from statsmodels.tsa.stattools import adfuller\n",
    "import scipy.stats as scs\n",
    "from arch import arch_model\n",
    "\n",
    "import matplotlib.pyplot as plt\n",
    "import matplotlib as mpl\n",
    "\n",
    "#plt.style.use('ggplot')\n",
    "\n",
    "import tsalib"
   ]
  },
  {
   "cell_type": "code",
   "execution_count": null,
   "metadata": {},
   "outputs": [],
   "source": [
    "start = '2008-01-01'\n",
    "end =dt.datetime.strftime(dt.datetime.strptime('2018-12-01','%Y-%m-%d') + dt.timedelta(days=22)\n",
    "                     ,'%Y-%m-%d')\n",
    "\n",
    "get_px = lambda x: web.DataReader(x, 'yahoo', start=start, end=end)\n",
    "\n",
    "symbols = ['SPY','TLT','MSFT']\n",
    "# raw adjusted close prices\n",
    "data = pd.DataFrame({sym:get_px(sym)['Adj Close'] for sym in symbols})\n",
    "# log returns\n",
    "lrets = np.log(data/data.shift(1)).dropna()"
   ]
  },
  {
   "cell_type": "code",
   "execution_count": null,
   "metadata": {},
   "outputs": [],
   "source": [
    "signal = tsalib.backtest_intraday(lTS = lrets.SPY)"
   ]
  },
  {
   "cell_type": "code",
   "execution_count": null,
   "metadata": {},
   "outputs": [],
   "source": [
    "\n",
    "foreLength = len(lrets.SPY) - 1450\n",
    "    \n",
    "returns = pd.DataFrame(index = signal.index, \n",
    "                       columns=['Buy and Hold', 'Strategy'])\n",
    "returns['Buy and Hold'] = lrets.SPY[-foreLength:]\n",
    "returns['Strategy'] = signal*returns['Buy and Hold'] * .8\n",
    "\n",
    "eqCurves = pd.DataFrame(index = signal.index, \n",
    "                       columns=['Buy and Hold', 'Strategy'])\n",
    "eqCurves['Buy and Hold']=returns['Buy and Hold'].cumsum()+1\n",
    "eqCurves['Strategy'] = returns['Strategy'].cumsum()+1\n",
    "\n",
    "eqCurves['Strategy'].plot(figsize=(10,8))\n",
    "eqCurves['Buy and Hold'].plot()\n",
    "plt.legend()\n",
    "plt.show()"
   ]
  }
 ],
 "metadata": {
  "kernelspec": {
   "display_name": "Python 3",
   "language": "python",
   "name": "python3"
  },
  "language_info": {
   "codemirror_mode": {
    "name": "ipython",
    "version": 3
   },
   "file_extension": ".py",
   "mimetype": "text/x-python",
   "name": "python",
   "nbconvert_exporter": "python",
   "pygments_lexer": "ipython3",
   "version": "3.7.0"
  }
 },
 "nbformat": 4,
 "nbformat_minor": 2
}
